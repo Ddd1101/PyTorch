{
 "cells": [
  {
   "cell_type": "code",
   "execution_count": 1,
   "metadata": {},
   "outputs": [
    {
     "data": {
      "text/plain": [
       "tensor([[0.1998, 0.6415, 0.4868, 0.2415, 0.1884],\n",
       "        [0.8156, 0.2805, 0.1623, 0.3704, 0.1894],\n",
       "        [0.7526, 0.0861, 0.4795, 0.3646, 0.1889],\n",
       "        [0.3041, 0.7529, 0.0837, 0.6126, 0.5756],\n",
       "        [0.0023, 0.0927, 0.3099, 0.1626, 0.0282]], requires_grad=True)"
      ]
     },
     "execution_count": 1,
     "metadata": {},
     "output_type": "execute_result"
    }
   ],
   "source": [
    "import torch\n",
    "\n",
    "x = torch.rand(5, 5, requires_grad=True)\n",
    "x"
   ]
  },
  {
   "cell_type": "code",
   "execution_count": 2,
   "metadata": {},
   "outputs": [
    {
     "data": {
      "text/plain": [
       "tensor([[0.8828, 0.6789, 0.8045, 0.5332, 0.0758],\n",
       "        [0.9217, 0.6291, 0.4867, 0.5354, 0.9488],\n",
       "        [0.1766, 0.8103, 0.6695, 0.6990, 0.5246],\n",
       "        [0.0974, 0.2579, 0.5234, 0.7111, 0.2593],\n",
       "        [0.3291, 0.2487, 0.6341, 0.6397, 0.6478]], requires_grad=True)"
      ]
     },
     "execution_count": 2,
     "metadata": {},
     "output_type": "execute_result"
    }
   ],
   "source": [
    "y = torch.rand(5, 5, requires_grad=True)\n",
    "y"
   ]
  },
  {
   "cell_type": "code",
   "execution_count": 3,
   "metadata": {},
   "outputs": [
    {
     "data": {
      "text/plain": [
       "tensor(22.0978, grad_fn=<SumBackward0>)"
      ]
     },
     "execution_count": 3,
     "metadata": {},
     "output_type": "execute_result"
    }
   ],
   "source": [
    "z = torch.sum(x + y)\n",
    "z"
   ]
  },
  {
   "cell_type": "code",
   "execution_count": 4,
   "metadata": {},
   "outputs": [],
   "source": [
    "z.backward()"
   ]
  },
  {
   "cell_type": "code",
   "execution_count": 5,
   "metadata": {},
   "outputs": [
    {
     "name": "stdout",
     "output_type": "stream",
     "text": [
      "tensor([[1., 1., 1., 1., 1.],\n",
      "        [1., 1., 1., 1., 1.],\n",
      "        [1., 1., 1., 1., 1.],\n",
      "        [1., 1., 1., 1., 1.],\n",
      "        [1., 1., 1., 1., 1.]]) tensor([[1., 1., 1., 1., 1.],\n",
      "        [1., 1., 1., 1., 1.],\n",
      "        [1., 1., 1., 1., 1.],\n",
      "        [1., 1., 1., 1., 1.],\n",
      "        [1., 1., 1., 1., 1.]])\n"
     ]
    }
   ],
   "source": [
    "print(x.grad, y.grad)"
   ]
  },
  {
   "cell_type": "code",
   "execution_count": 6,
   "metadata": {},
   "outputs": [
    {
     "data": {
      "text/plain": [
       "tensor([[0.3309, 0.4482, 0.9689, 0.2667, 1.6697],\n",
       "        [0.5053, 0.3102, 0.1844, 0.2808, 0.6969],\n",
       "        [0.0743, 0.6151, 1.0943, 1.0057, 0.8946],\n",
       "        [0.9073, 1.0124, 1.0703, 0.0037, 0.2410],\n",
       "        [1.0659, 0.6137, 0.0523, 0.0647, 0.0047]], grad_fn=<AddBackward0>)"
      ]
     },
     "execution_count": 6,
     "metadata": {},
     "output_type": "execute_result"
    }
   ],
   "source": [
    "x = torch.rand(5, 5, requires_grad=True)\n",
    "y = torch.rand(5, 5, requires_grad=True)\n",
    "z = x**2 + y**3\n",
    "z"
   ]
  },
  {
   "cell_type": "code",
   "execution_count": 7,
   "metadata": {},
   "outputs": [
    {
     "name": "stdout",
     "output_type": "stream",
     "text": [
      "tensor([[1.0536, 1.3230, 1.6400, 0.1342, 1.8366],\n",
      "        [0.5452, 1.0138, 0.8346, 1.0489, 0.9843],\n",
      "        [0.5433, 1.5585, 1.1012, 1.3954, 0.4691],\n",
      "        [1.4949, 1.5449, 0.8694, 0.1217, 0.9486],\n",
      "        [1.9495, 0.8899, 0.4488, 0.5035, 0.1359]])\n"
     ]
    }
   ],
   "source": [
    "z.backward(torch.ones_like(x))\n",
    "print(x.grad)"
   ]
  },
  {
   "cell_type": "code",
   "execution_count": 8,
   "metadata": {},
   "outputs": [
    {
     "name": "stdout",
     "output_type": "stream",
     "text": [
      "False\n"
     ]
    }
   ],
   "source": [
    "with torch.no_grad():\n",
    "    print((x + y**2).requires_grad)"
   ]
  }
 ],
 "metadata": {
  "kernelspec": {
   "display_name": "Python 3",
   "language": "python",
   "name": "python3"
  },
  "language_info": {
   "codemirror_mode": {
    "name": "ipython",
    "version": 3
   },
   "file_extension": ".py",
   "mimetype": "text/x-python",
   "name": "python",
   "nbconvert_exporter": "python",
   "pygments_lexer": "ipython3",
   "version": "3.6.5"
  }
 },
 "nbformat": 4,
 "nbformat_minor": 2
}
