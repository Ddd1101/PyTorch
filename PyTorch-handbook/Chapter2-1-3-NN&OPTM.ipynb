{
 "cells": [
  {
   "cell_type": "code",
   "execution_count": 1,
   "metadata": {},
   "outputs": [
    {
     "data": {
      "text/plain": [
       "'1.1.0'"
      ]
     },
     "execution_count": 1,
     "metadata": {},
     "output_type": "execute_result"
    }
   ],
   "source": [
    "import torch\n",
    "import torch.nn as nn\n",
    "\n",
    "torch.__version__"
   ]
  },
  {
   "cell_type": "code",
   "execution_count": 2,
   "metadata": {},
   "outputs": [],
   "source": [
    "import torch.nn.functional as F"
   ]
  },
  {
   "cell_type": "code",
   "execution_count": 7,
   "metadata": {},
   "outputs": [
    {
     "name": "stdout",
     "output_type": "stream",
     "text": [
      "Net(\n",
      "  (conv1): Conv2d(1, 6, kernel_size=(3, 3), stride=(1, 1))\n",
      "  (fc1): Linear(in_features=1350, out_features=10, bias=True)\n",
      ")\n"
     ]
    }
   ],
   "source": [
    "class Net(nn.Module):\n",
    "    def __init__(self):\n",
    "        super(Net, self).__init__()\n",
    "\n",
    "        self.conv1 = nn.Conv2d(1, 6, 3)\n",
    "        self.fc1 = nn.Linear(1350, 10)\n",
    "\n",
    "    def forward(self, x):\n",
    "        print(x.size())\n",
    "\n",
    "        x = self.conv1(x)\n",
    "        x = F.relu(x)\n",
    "        print(x.size())\n",
    "        x = F.max_pool2d(x, (2, 2))\n",
    "        x = F.relu(x)\n",
    "        print(x.size())\n",
    "        x = x.view(x.size()[0], -1)\n",
    "        print(x.size())\n",
    "        x = self.fc1(x)\n",
    "        return x\n",
    "\n",
    "\n",
    "net = Net()\n",
    "print(net)"
   ]
  },
  {
   "cell_type": "code",
   "execution_count": 4,
   "metadata": {},
   "outputs": [
    {
     "name": "stdout",
     "output_type": "stream",
     "text": [
      "Parameter containing:\n",
      "tensor([[[[-0.0484, -0.0179,  0.0531],\n",
      "          [-0.2766, -0.1878,  0.0702],\n",
      "          [ 0.1527, -0.0881, -0.1994]]],\n",
      "\n",
      "\n",
      "        [[[ 0.0069,  0.1667, -0.1013],\n",
      "          [-0.0577,  0.1964, -0.2233],\n",
      "          [-0.2063, -0.3229, -0.2016]]],\n",
      "\n",
      "\n",
      "        [[[ 0.1181, -0.2846, -0.0360],\n",
      "          [-0.2851, -0.2240,  0.0684],\n",
      "          [ 0.0102, -0.0923,  0.2033]]],\n",
      "\n",
      "\n",
      "        [[[ 0.0609, -0.1275,  0.1387],\n",
      "          [ 0.3271, -0.2300,  0.2561],\n",
      "          [-0.0838, -0.1577, -0.0099]]],\n",
      "\n",
      "\n",
      "        [[[ 0.0863,  0.1346,  0.1143],\n",
      "          [ 0.0601, -0.2091, -0.1526],\n",
      "          [ 0.1382, -0.1270, -0.0016]]],\n",
      "\n",
      "\n",
      "        [[[ 0.2922,  0.0124, -0.0741],\n",
      "          [ 0.0030,  0.2455, -0.1240],\n",
      "          [ 0.2065,  0.1206,  0.2830]]]], requires_grad=True)\n",
      "Parameter containing:\n",
      "tensor([-0.3309, -0.0776, -0.3165, -0.1311, -0.1260, -0.0425],\n",
      "       requires_grad=True)\n",
      "Parameter containing:\n",
      "tensor([[-0.0028,  0.0050,  0.0071,  ...,  0.0055,  0.0132,  0.0127],\n",
      "        [ 0.0041,  0.0253,  0.0235,  ...,  0.0170,  0.0014, -0.0200],\n",
      "        [ 0.0222, -0.0260, -0.0076,  ...,  0.0186,  0.0009,  0.0091],\n",
      "        ...,\n",
      "        [-0.0051, -0.0183,  0.0091,  ...,  0.0096, -0.0082, -0.0096],\n",
      "        [ 0.0115, -0.0047,  0.0235,  ..., -0.0250,  0.0167,  0.0030],\n",
      "        [ 0.0161, -0.0131,  0.0252,  ..., -0.0053,  0.0080, -0.0033]],\n",
      "       requires_grad=True)\n",
      "Parameter containing:\n",
      "tensor([-0.0065, -0.0148, -0.0158, -0.0226, -0.0153, -0.0237, -0.0192, -0.0106,\n",
      "        -0.0185, -0.0072], requires_grad=True)\n"
     ]
    }
   ],
   "source": [
    "for parameters in net.parameters():\n",
    "    print(parameters)"
   ]
  },
  {
   "cell_type": "code",
   "execution_count": 5,
   "metadata": {},
   "outputs": [
    {
     "name": "stdout",
     "output_type": "stream",
     "text": [
      "conv1.weight : torch.Size([6, 1, 3, 3])\n",
      "conv1.bias : torch.Size([6])\n",
      "fc1.weight : torch.Size([10, 1350])\n",
      "fc1.bias : torch.Size([10])\n"
     ]
    }
   ],
   "source": [
    "for name, parameters in net.named_parameters():\n",
    "    print(name, ':', parameters.size())"
   ]
  },
  {
   "cell_type": "code",
   "execution_count": 8,
   "metadata": {},
   "outputs": [
    {
     "name": "stdout",
     "output_type": "stream",
     "text": [
      "torch.Size([1, 1, 32, 32])\n",
      "torch.Size([1, 6, 30, 30])\n",
      "torch.Size([1, 6, 15, 15])\n",
      "torch.Size([1, 1350])\n"
     ]
    },
    {
     "data": {
      "text/plain": [
       "torch.Size([1, 10])"
      ]
     },
     "execution_count": 8,
     "metadata": {},
     "output_type": "execute_result"
    }
   ],
   "source": [
    "input = torch.randn(1, 1, 32, 32)\n",
    "out = net(input)\n",
    "out.size()"
   ]
  },
  {
   "cell_type": "code",
   "execution_count": 9,
   "metadata": {},
   "outputs": [
    {
     "data": {
      "text/plain": [
       "torch.Size([1, 1, 32, 32])"
      ]
     },
     "execution_count": 9,
     "metadata": {},
     "output_type": "execute_result"
    }
   ],
   "source": [
    "input.size()"
   ]
  },
  {
   "cell_type": "code",
   "execution_count": 10,
   "metadata": {},
   "outputs": [],
   "source": [
    "net.zero_grad()\n",
    "out.backward(torch.ones(1, 10))"
   ]
  },
  {
   "cell_type": "code",
   "execution_count": 12,
   "metadata": {},
   "outputs": [
    {
     "name": "stdout",
     "output_type": "stream",
     "text": [
      "30.07500648498535\n"
     ]
    }
   ],
   "source": [
    "y = torch.arange(0, 10).view(1, 10).float()\n",
    "criterion = nn.MSELoss()\n",
    "loss = criterion(out, y)\n",
    "print(loss.item())"
   ]
  },
  {
   "cell_type": "code",
   "execution_count": 13,
   "metadata": {},
   "outputs": [],
   "source": [
    "import torch.optim"
   ]
  },
  {
   "cell_type": "code",
   "execution_count": 14,
   "metadata": {},
   "outputs": [
    {
     "name": "stdout",
     "output_type": "stream",
     "text": [
      "torch.Size([1, 1, 32, 32])\n",
      "torch.Size([1, 6, 30, 30])\n",
      "torch.Size([1, 6, 15, 15])\n",
      "torch.Size([1, 1350])\n"
     ]
    }
   ],
   "source": [
    "out = net(input)\n",
    "criterion = nn.MSELoss()\n",
    "loss = criterion(out, y)\n",
    "optimizer = torch.optim.SGD(net.parameters(), lr=0.01)\n",
    "optimizer.zero_grad()\n",
    "loss.backward()\n",
    "\n",
    "optimizer.step()"
   ]
  }
 ],
 "metadata": {
  "kernelspec": {
   "display_name": "Python 3",
   "language": "python",
   "name": "python3"
  },
  "language_info": {
   "codemirror_mode": {
    "name": "ipython",
    "version": 3
   },
   "file_extension": ".py",
   "mimetype": "text/x-python",
   "name": "python",
   "nbconvert_exporter": "python",
   "pygments_lexer": "ipython3",
   "version": "3.6.5"
  }
 },
 "nbformat": 4,
 "nbformat_minor": 2
}
