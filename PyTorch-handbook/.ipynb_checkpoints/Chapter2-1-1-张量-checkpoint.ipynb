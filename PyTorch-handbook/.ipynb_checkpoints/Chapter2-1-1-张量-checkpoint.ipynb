{
 "cells": [
  {
   "cell_type": "code",
   "execution_count": 1,
   "metadata": {},
   "outputs": [
    {
     "data": {
      "text/plain": [
       "'1.1.0'"
      ]
     },
     "execution_count": 1,
     "metadata": {},
     "output_type": "execute_result"
    }
   ],
   "source": [
    "import torch\n",
    "import numpy as np\n",
    "\n",
    "torch.__version__"
   ]
  },
  {
   "cell_type": "code",
   "execution_count": 2,
   "metadata": {},
   "outputs": [
    {
     "data": {
      "text/plain": [
       "tensor([[0.5464, 0.6503, 0.9355],\n",
       "        [0.3235, 0.0595, 0.7541]])"
      ]
     },
     "execution_count": 2,
     "metadata": {},
     "output_type": "execute_result"
    }
   ],
   "source": [
    "x=torch.rand(2,3)\n",
    "x"
   ]
  },
  {
   "cell_type": "code",
   "execution_count": 3,
   "metadata": {},
   "outputs": [
    {
     "name": "stdout",
     "output_type": "stream",
     "text": [
      "torch.Size([2, 3])\n",
      "torch.Size([2, 3])\n"
     ]
    }
   ],
   "source": [
    "print(x.shape)\n",
    "print(x.size())"
   ]
  },
  {
   "cell_type": "code",
   "execution_count": 4,
   "metadata": {},
   "outputs": [
    {
     "data": {
      "text/plain": [
       "tensor([[[[0.2639, 0.3206, 0.2164, 0.8237, 0.9334],\n",
       "          [0.8933, 0.7950, 0.1476, 0.5742, 0.4237],\n",
       "          [0.8848, 0.8323, 0.4403, 0.4759, 0.3147],\n",
       "          [0.1761, 0.4287, 0.8206, 0.2425, 0.2189]],\n",
       "\n",
       "         [[0.0346, 0.6380, 0.1530, 0.1188, 0.2477],\n",
       "          [0.4994, 0.0293, 0.9826, 0.4746, 0.3264],\n",
       "          [0.5746, 0.9102, 0.9115, 0.3174, 0.5600],\n",
       "          [0.8950, 0.0696, 0.0727, 0.1658, 0.3457]],\n",
       "\n",
       "         [[0.1027, 0.1243, 0.5654, 0.2944, 0.6112],\n",
       "          [0.4165, 0.6369, 0.5389, 0.7398, 0.7339],\n",
       "          [0.4632, 0.2499, 0.2002, 0.0746, 0.5951],\n",
       "          [0.9445, 0.8097, 0.3739, 0.7672, 0.7438]]],\n",
       "\n",
       "\n",
       "        [[[0.7821, 0.3943, 0.7961, 0.5599, 0.4588],\n",
       "          [0.4936, 0.9491, 0.0142, 0.0374, 0.3045],\n",
       "          [0.4190, 0.8584, 0.1282, 0.0718, 0.6540],\n",
       "          [0.2295, 0.7082, 0.4418, 0.7100, 0.8594]],\n",
       "\n",
       "         [[0.8689, 0.0043, 0.7459, 0.6294, 0.6230],\n",
       "          [0.5131, 0.5199, 0.1412, 0.4189, 0.0732],\n",
       "          [0.7016, 0.6248, 0.3410, 0.2094, 0.1151],\n",
       "          [0.8847, 0.7463, 0.4948, 0.2399, 0.1494]],\n",
       "\n",
       "         [[0.6893, 0.7970, 0.5143, 0.8142, 0.4501],\n",
       "          [0.6397, 0.8180, 0.9608, 0.5648, 0.8366],\n",
       "          [0.8998, 0.9617, 0.1273, 0.7566, 0.3535],\n",
       "          [0.9949, 0.2354, 0.4067, 0.9414, 0.1080]]]])"
      ]
     },
     "execution_count": 4,
     "metadata": {},
     "output_type": "execute_result"
    }
   ],
   "source": [
    "y=torch.rand(2,3,4,5)\n",
    "y.size()\n",
    "y"
   ]
  },
  {
   "cell_type": "code",
   "execution_count": 5,
   "metadata": {},
   "outputs": [
    {
     "name": "stdout",
     "output_type": "stream",
     "text": [
      "tensor(3.1433)\n"
     ]
    },
    {
     "data": {
      "text/plain": [
       "torch.Size([])"
      ]
     },
     "execution_count": 5,
     "metadata": {},
     "output_type": "execute_result"
    }
   ],
   "source": [
    "scalar=torch.tensor(3.1433223)\n",
    "print(scalar)\n",
    "scalar.size()"
   ]
  },
  {
   "cell_type": "code",
   "execution_count": 6,
   "metadata": {},
   "outputs": [
    {
     "data": {
      "text/plain": [
       "3.143322229385376"
      ]
     },
     "execution_count": 6,
     "metadata": {},
     "output_type": "execute_result"
    }
   ],
   "source": [
    "scalar.item()"
   ]
  },
  {
   "cell_type": "code",
   "execution_count": 7,
   "metadata": {},
   "outputs": [
    {
     "name": "stdout",
     "output_type": "stream",
     "text": [
      "tensor([3.1433])\n"
     ]
    },
    {
     "data": {
      "text/plain": [
       "torch.Size([1])"
      ]
     },
     "execution_count": 7,
     "metadata": {},
     "output_type": "execute_result"
    }
   ],
   "source": [
    "tensor = torch.tensor([3.1433223])\n",
    "print(tensor)\n",
    "tensor.size()"
   ]
  },
  {
   "cell_type": "code",
   "execution_count": 8,
   "metadata": {},
   "outputs": [
    {
     "data": {
      "text/plain": [
       "3.143322229385376"
      ]
     },
     "execution_count": 8,
     "metadata": {},
     "output_type": "execute_result"
    }
   ],
   "source": [
    "tensor.item()"
   ]
  },
  {
   "cell_type": "code",
   "execution_count": 9,
   "metadata": {},
   "outputs": [
    {
     "data": {
      "text/plain": [
       "tensor([3])"
      ]
     },
     "execution_count": 9,
     "metadata": {},
     "output_type": "execute_result"
    }
   ],
   "source": [
    "long = tensor.long()\n",
    "long"
   ]
  },
  {
   "cell_type": "raw",
   "metadata": {},
   "source": [
    "a = torch.randn((3, 2))\n",
    "\n",
    "numpy_a = a.numpy()\n",
    "print(numpy_a)"
   ]
  },
  {
   "cell_type": "code",
   "execution_count": 11,
   "metadata": {},
   "outputs": [
    {
     "data": {
      "text/plain": [
       "tensor([[ 1.9249,  0.3216],\n",
       "        [-1.0659, -2.3552],\n",
       "        [-0.4068,  0.9631]])"
      ]
     },
     "execution_count": 11,
     "metadata": {},
     "output_type": "execute_result"
    }
   ],
   "source": [
    "torch_a = torch.from_numpy(numpy_a)\n",
    "torch_a"
   ]
  },
  {
   "cell_type": "code",
   "execution_count": 12,
   "metadata": {},
   "outputs": [
    {
     "data": {
      "text/plain": [
       "'torch.FloatTensor'"
      ]
     },
     "execution_count": 12,
     "metadata": {},
     "output_type": "execute_result"
    }
   ],
   "source": [
    "cpu_a = torch.rand(4,3)\n",
    "cpu_a.type()"
   ]
  },
  {
   "cell_type": "code",
   "execution_count": 13,
   "metadata": {},
   "outputs": [
    {
     "data": {
      "text/plain": [
       "'torch.cuda.FloatTensor'"
      ]
     },
     "execution_count": 13,
     "metadata": {},
     "output_type": "execute_result"
    }
   ],
   "source": [
    "gpu_a = cpu_a.cuda()\n",
    "gpu_a.type()"
   ]
  },
  {
   "cell_type": "code",
   "execution_count": 14,
   "metadata": {},
   "outputs": [
    {
     "data": {
      "text/plain": [
       "'torch.FloatTensor'"
      ]
     },
     "execution_count": 14,
     "metadata": {},
     "output_type": "execute_result"
    }
   ],
   "source": [
    "cpu_b = gpu_a.cpu()\n",
    "cpu_b.type()"
   ]
  }
 ],
 "metadata": {
  "kernelspec": {
   "display_name": "Python 3",
   "language": "python",
   "name": "python3"
  },
  "language_info": {
   "codemirror_mode": {
    "name": "ipython",
    "version": 3
   },
   "file_extension": ".py",
   "mimetype": "text/x-python",
   "name": "python",
   "nbconvert_exporter": "python",
   "pygments_lexer": "ipython3",
   "version": "3.6.5"
  }
 },
 "nbformat": 4,
 "nbformat_minor": 2
}
